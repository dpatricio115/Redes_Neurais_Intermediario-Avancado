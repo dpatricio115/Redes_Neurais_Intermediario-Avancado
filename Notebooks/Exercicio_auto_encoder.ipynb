{
 "cells": [
  {
   "cell_type": "markdown",
   "metadata": {},
   "source": [
    "# Treine um auto_encoder para o dataset people falling"
   ]
  }
 ],
 "metadata": {
  "language_info": {
   "name": "python"
  }
 },
 "nbformat": 4,
 "nbformat_minor": 2
}
