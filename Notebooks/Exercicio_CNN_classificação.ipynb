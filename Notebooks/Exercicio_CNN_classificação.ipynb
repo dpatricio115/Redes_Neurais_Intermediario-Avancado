{
 "cells": [
  {
   "cell_type": "markdown",
   "metadata": {},
   "source": [
    "## Esse é o exercídio de Classificação \n",
    "Usando o que vimos na aula anterior.\n",
    " \n",
    "Façam uma CNN, para classificar as\n",
    "imagens. \n",
    "\n",
    "Para facilitar eu já fiz o\n",
    "código de leitura das imagens. \n",
    "\n",
    "Só descobrir o tamanho da imagem montar a rede e treinar.\n",
    "\n",
    "Tente conseguir a melhor acurácia que puderem\n"
   ]
  },
  {
   "cell_type": "code",
   "execution_count": 53,
   "metadata": {},
   "outputs": [],
   "source": [
    "from tensorflow import keras\n",
    "from keras.preprocessing.image import ImageDataGenerator,load_img\n",
    "import glob\n",
    "import os\n",
    "from keras.layers import Dense, Activation, Dropout, Flatten,  Conv2D,MaxPool2D\n",
    "from keras.models import Sequential\n",
    "from keras.optimizers import Adam\n",
    "from keras.callbacks import EarlyStopping\n",
    "from sklearn.model_selection import train_test_split\n",
    "import cv2\n",
    "from sklearn.preprocessing import OneHotEncoder\n",
    "import numpy as np"
   ]
  },
  {
   "cell_type": "code",
   "execution_count": 7,
   "metadata": {},
   "outputs": [],
   "source": [
    "lista_imagens = glob.glob('../datasets/satellite/*/*.jpg')\n",
    "lista_labels = [os.path.basename(os.path.dirname(imagem)) for imagem in lista_imagens]"
   ]
  },
  {
   "cell_type": "code",
   "execution_count": 19,
   "metadata": {},
   "outputs": [],
   "source": [
    "train_list,test_list,train_label, test_label  = train_test_split(lista_imagens,lista_labels, test_size=0.2, random_state=42,stratify=lista_labels)\n",
    "test_list,valid_list,test_label, valid_label = train_test_split(test_list,test_label, test_size=0.5, random_state=42,stratify=test_label)"
   ]
  },
  {
   "cell_type": "code",
   "execution_count": null,
   "metadata": {},
   "outputs": [],
   "source": [
    "train_images = []\n",
    "for filename in train_list:\n",
    "    img = cv2.imread(filename)\n",
    "    img = cv2.resize(img,(64,64),interpolation=cv2.INTER_LINEAR)\n",
    "    train_images.append(np.asarray(img))\n",
    "\n",
    "valid_images = []\n",
    "for filename in valid_list:\n",
    "    img = cv2.imread(filename)\n",
    "    img = cv2.resize(img,(64,64),interpolation=cv2.INTER_LINEAR)\n",
    "    valid_images.append(np.asarray(img))\n",
    "\n",
    "test_images = []\n",
    "for filename in test_list:\n",
    "    img = cv2.imread(filename)\n",
    "    img = cv2.resize(img,(64,64),interpolation=cv2.INTER_LINEAR)\n",
    "    test_images.append(np.asarray(img))"
   ]
  },
  {
   "cell_type": "code",
   "execution_count": 55,
   "metadata": {},
   "outputs": [],
   "source": [
    "hot = OneHotEncoder()\n",
    "train_labels = hot.fit_transform(np.asarray(train_label).reshape([-1,1])).toarray()\n",
    "valid_labels = hot.transform(np.asarray(valid_label).reshape([-1,1])).toarray()"
   ]
  },
  {
   "cell_type": "markdown",
   "metadata": {},
   "source": [
    "## Essas transformações aqui de baixo são feitas \n",
    "# \n",
    "## porque o keras pode errar interpretando lista\n",
    "## Então sempre convertam pra arrays do numpy\n"
   ]
  },
  {
   "cell_type": "code",
   "execution_count": null,
   "metadata": {},
   "outputs": [],
   "source": [
    "train_images = np.asarray(train_images)\n",
    "valid_images = np.asarray(valid_images)\n",
    "test_images = np.asarray(test_images)\n",
    "train_labels  = np.asarray(train_labels)\n",
    "valid_labels = np.asarray(valid_labels)"
   ]
  },
  {
   "cell_type": "markdown",
   "metadata": {},
   "source": [
    "## Código do modelo começa aqui"
   ]
  }
 ],
 "metadata": {
  "kernelspec": {
   "display_name": "valor_venal",
   "language": "python",
   "name": "python3"
  },
  "language_info": {
   "codemirror_mode": {
    "name": "ipython",
    "version": 3
   },
   "file_extension": ".py",
   "mimetype": "text/x-python",
   "name": "python",
   "nbconvert_exporter": "python",
   "pygments_lexer": "ipython3",
   "version": "3.9.15"
  }
 },
 "nbformat": 4,
 "nbformat_minor": 2
}
