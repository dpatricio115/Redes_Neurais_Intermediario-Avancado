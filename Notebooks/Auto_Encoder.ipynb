{
 "cells": [
  {
   "cell_type": "code",
   "execution_count": 49,
   "metadata": {},
   "outputs": [],
   "source": [
    "from tensorflow.keras.models import Model\n",
    "from tensorflow.keras import Sequential\n",
    "from tensorflow.keras.layers import Dense\n",
    "import pandas as pd\n",
    "from sklearn.model_selection import train_test_split\n",
    "import numpy as np"
   ]
  },
  {
   "cell_type": "code",
   "execution_count": 54,
   "metadata": {},
   "outputs": [],
   "source": [
    "class AnomalyDetector(Model):\n",
    "  def __init__(self):\n",
    "    super(AnomalyDetector, self).__init__()\n",
    "    self.encoder = Sequential([\n",
    "      Dense(32, activation=\"relu\"),\n",
    "      Dense(16, activation=\"relu\"),\n",
    "      Dense(8, activation=\"relu\")])\n",
    "\n",
    "    self.decoder = Sequential([\n",
    "      Dense(16, activation=\"relu\"),\n",
    "      Dense(32, activation=\"relu\"),\n",
    "     Dense(4, activation=\"relu\")])\n",
    "\n",
    "  def call(self, x):\n",
    "    encoded = self.encoder(x)\n",
    "    decoded = self.decoder(encoded)\n",
    "    return decoded\n",
    "\n",
    "autoencoder = AnomalyDetector()"
   ]
  },
  {
   "cell_type": "code",
   "execution_count": 28,
   "metadata": {},
   "outputs": [],
   "source": [
    "df = pd.read_csv('../datasets/auto_encoder/bank_transactions_data_2.csv')"
   ]
  },
  {
   "cell_type": "code",
   "execution_count": 55,
   "metadata": {},
   "outputs": [],
   "source": [
    "autoencoder.compile(optimizer='adam', loss='mae',run_eagerly=True)"
   ]
  },
  {
   "cell_type": "code",
   "execution_count": 16,
   "metadata": {},
   "outputs": [
    {
     "data": {
      "text/plain": [
       "Index(['TransactionID', 'AccountID', 'TransactionAmount', 'TransactionDate',\n",
       "       'TransactionType', 'Location', 'DeviceID', 'IP Address', 'MerchantID',\n",
       "       'Channel', 'CustomerAge', 'CustomerOccupation', 'TransactionDuration',\n",
       "       'LoginAttempts', 'AccountBalance', 'PreviousTransactionDate'],\n",
       "      dtype='object')"
      ]
     },
     "execution_count": 16,
     "metadata": {},
     "output_type": "execute_result"
    }
   ],
   "source": [
    "df.columns"
   ]
  },
  {
   "cell_type": "code",
   "execution_count": 17,
   "metadata": {},
   "outputs": [
    {
     "data": {
      "text/html": [
       "<div>\n",
       "<style scoped>\n",
       "    .dataframe tbody tr th:only-of-type {\n",
       "        vertical-align: middle;\n",
       "    }\n",
       "\n",
       "    .dataframe tbody tr th {\n",
       "        vertical-align: top;\n",
       "    }\n",
       "\n",
       "    .dataframe thead th {\n",
       "        text-align: right;\n",
       "    }\n",
       "</style>\n",
       "<table border=\"1\" class=\"dataframe\">\n",
       "  <thead>\n",
       "    <tr style=\"text-align: right;\">\n",
       "      <th></th>\n",
       "      <th>TransactionID</th>\n",
       "      <th>AccountID</th>\n",
       "      <th>TransactionAmount</th>\n",
       "      <th>TransactionDate</th>\n",
       "      <th>TransactionType</th>\n",
       "      <th>Location</th>\n",
       "      <th>DeviceID</th>\n",
       "      <th>IP Address</th>\n",
       "      <th>MerchantID</th>\n",
       "      <th>Channel</th>\n",
       "      <th>CustomerAge</th>\n",
       "      <th>CustomerOccupation</th>\n",
       "      <th>TransactionDuration</th>\n",
       "      <th>LoginAttempts</th>\n",
       "      <th>AccountBalance</th>\n",
       "      <th>PreviousTransactionDate</th>\n",
       "    </tr>\n",
       "  </thead>\n",
       "  <tbody>\n",
       "    <tr>\n",
       "      <th>0</th>\n",
       "      <td>TX000001</td>\n",
       "      <td>AC00128</td>\n",
       "      <td>14.09</td>\n",
       "      <td>2023-04-11 16:29:14</td>\n",
       "      <td>Debit</td>\n",
       "      <td>San Diego</td>\n",
       "      <td>D000380</td>\n",
       "      <td>162.198.218.92</td>\n",
       "      <td>M015</td>\n",
       "      <td>ATM</td>\n",
       "      <td>70</td>\n",
       "      <td>Doctor</td>\n",
       "      <td>81</td>\n",
       "      <td>1</td>\n",
       "      <td>5112.21</td>\n",
       "      <td>2024-11-04 08:08:08</td>\n",
       "    </tr>\n",
       "    <tr>\n",
       "      <th>1</th>\n",
       "      <td>TX000002</td>\n",
       "      <td>AC00455</td>\n",
       "      <td>376.24</td>\n",
       "      <td>2023-06-27 16:44:19</td>\n",
       "      <td>Debit</td>\n",
       "      <td>Houston</td>\n",
       "      <td>D000051</td>\n",
       "      <td>13.149.61.4</td>\n",
       "      <td>M052</td>\n",
       "      <td>ATM</td>\n",
       "      <td>68</td>\n",
       "      <td>Doctor</td>\n",
       "      <td>141</td>\n",
       "      <td>1</td>\n",
       "      <td>13758.91</td>\n",
       "      <td>2024-11-04 08:09:35</td>\n",
       "    </tr>\n",
       "    <tr>\n",
       "      <th>2</th>\n",
       "      <td>TX000003</td>\n",
       "      <td>AC00019</td>\n",
       "      <td>126.29</td>\n",
       "      <td>2023-07-10 18:16:08</td>\n",
       "      <td>Debit</td>\n",
       "      <td>Mesa</td>\n",
       "      <td>D000235</td>\n",
       "      <td>215.97.143.157</td>\n",
       "      <td>M009</td>\n",
       "      <td>Online</td>\n",
       "      <td>19</td>\n",
       "      <td>Student</td>\n",
       "      <td>56</td>\n",
       "      <td>1</td>\n",
       "      <td>1122.35</td>\n",
       "      <td>2024-11-04 08:07:04</td>\n",
       "    </tr>\n",
       "    <tr>\n",
       "      <th>3</th>\n",
       "      <td>TX000004</td>\n",
       "      <td>AC00070</td>\n",
       "      <td>184.50</td>\n",
       "      <td>2023-05-05 16:32:11</td>\n",
       "      <td>Debit</td>\n",
       "      <td>Raleigh</td>\n",
       "      <td>D000187</td>\n",
       "      <td>200.13.225.150</td>\n",
       "      <td>M002</td>\n",
       "      <td>Online</td>\n",
       "      <td>26</td>\n",
       "      <td>Student</td>\n",
       "      <td>25</td>\n",
       "      <td>1</td>\n",
       "      <td>8569.06</td>\n",
       "      <td>2024-11-04 08:09:06</td>\n",
       "    </tr>\n",
       "    <tr>\n",
       "      <th>4</th>\n",
       "      <td>TX000005</td>\n",
       "      <td>AC00411</td>\n",
       "      <td>13.45</td>\n",
       "      <td>2023-10-16 17:51:24</td>\n",
       "      <td>Credit</td>\n",
       "      <td>Atlanta</td>\n",
       "      <td>D000308</td>\n",
       "      <td>65.164.3.100</td>\n",
       "      <td>M091</td>\n",
       "      <td>Online</td>\n",
       "      <td>26</td>\n",
       "      <td>Student</td>\n",
       "      <td>198</td>\n",
       "      <td>1</td>\n",
       "      <td>7429.40</td>\n",
       "      <td>2024-11-04 08:06:39</td>\n",
       "    </tr>\n",
       "  </tbody>\n",
       "</table>\n",
       "</div>"
      ],
      "text/plain": [
       "  TransactionID AccountID  TransactionAmount      TransactionDate  \\\n",
       "0      TX000001   AC00128              14.09  2023-04-11 16:29:14   \n",
       "1      TX000002   AC00455             376.24  2023-06-27 16:44:19   \n",
       "2      TX000003   AC00019             126.29  2023-07-10 18:16:08   \n",
       "3      TX000004   AC00070             184.50  2023-05-05 16:32:11   \n",
       "4      TX000005   AC00411              13.45  2023-10-16 17:51:24   \n",
       "\n",
       "  TransactionType   Location DeviceID      IP Address MerchantID Channel  \\\n",
       "0           Debit  San Diego  D000380  162.198.218.92       M015     ATM   \n",
       "1           Debit    Houston  D000051     13.149.61.4       M052     ATM   \n",
       "2           Debit       Mesa  D000235  215.97.143.157       M009  Online   \n",
       "3           Debit    Raleigh  D000187  200.13.225.150       M002  Online   \n",
       "4          Credit    Atlanta  D000308    65.164.3.100       M091  Online   \n",
       "\n",
       "   CustomerAge CustomerOccupation  TransactionDuration  LoginAttempts  \\\n",
       "0           70             Doctor                   81              1   \n",
       "1           68             Doctor                  141              1   \n",
       "2           19            Student                   56              1   \n",
       "3           26            Student                   25              1   \n",
       "4           26            Student                  198              1   \n",
       "\n",
       "   AccountBalance PreviousTransactionDate  \n",
       "0         5112.21     2024-11-04 08:08:08  \n",
       "1        13758.91     2024-11-04 08:09:35  \n",
       "2         1122.35     2024-11-04 08:07:04  \n",
       "3         8569.06     2024-11-04 08:09:06  \n",
       "4         7429.40     2024-11-04 08:06:39  "
      ]
     },
     "execution_count": 17,
     "metadata": {},
     "output_type": "execute_result"
    }
   ],
   "source": [
    "df.head()"
   ]
  },
  {
   "cell_type": "code",
   "execution_count": 56,
   "metadata": {},
   "outputs": [],
   "source": [
    "df = df[['TransactionAmount','TransactionDuration',\n",
    "'LoginAttempts','AccountBalance']]"
   ]
  },
  {
   "cell_type": "code",
   "execution_count": 29,
   "metadata": {},
   "outputs": [],
   "source": [
    "df = df[['TransactionAmount', 'TransactionDate',\n",
    "'IP Address','TransactionDuration',\n",
    "'LoginAttempts','AccountBalance',\n",
    "'PreviousTransactionDate']]"
   ]
  },
  {
   "cell_type": "code",
   "execution_count": null,
   "metadata": {},
   "outputs": [],
   "source": [
    "# df['IP Address'] = df['IP Address'].apply(lambda x: int(x.replace('.','')))\n",
    "# df['TransactionDate'] = df['TransactionDate'].apply(lambda x: int(x.replace('-','').replace(' ','').replace(':','')))\n",
    "# df['PreviousTransactionDate'] = df['PreviousTransactionDate'].apply(lambda x: int(x.replace('-','').replace(' ','').replace(':','')))"
   ]
  },
  {
   "cell_type": "code",
   "execution_count": 31,
   "metadata": {},
   "outputs": [
    {
     "data": {
      "text/html": [
       "<div>\n",
       "<style scoped>\n",
       "    .dataframe tbody tr th:only-of-type {\n",
       "        vertical-align: middle;\n",
       "    }\n",
       "\n",
       "    .dataframe tbody tr th {\n",
       "        vertical-align: top;\n",
       "    }\n",
       "\n",
       "    .dataframe thead th {\n",
       "        text-align: right;\n",
       "    }\n",
       "</style>\n",
       "<table border=\"1\" class=\"dataframe\">\n",
       "  <thead>\n",
       "    <tr style=\"text-align: right;\">\n",
       "      <th></th>\n",
       "      <th>TransactionAmount</th>\n",
       "      <th>TransactionDate</th>\n",
       "      <th>IP Address</th>\n",
       "      <th>TransactionDuration</th>\n",
       "      <th>LoginAttempts</th>\n",
       "      <th>AccountBalance</th>\n",
       "      <th>PreviousTransactionDate</th>\n",
       "    </tr>\n",
       "  </thead>\n",
       "  <tbody>\n",
       "    <tr>\n",
       "      <th>0</th>\n",
       "      <td>14.09</td>\n",
       "      <td>20230411162914</td>\n",
       "      <td>16219821892</td>\n",
       "      <td>81</td>\n",
       "      <td>1</td>\n",
       "      <td>5112.21</td>\n",
       "      <td>20241104080808</td>\n",
       "    </tr>\n",
       "    <tr>\n",
       "      <th>1</th>\n",
       "      <td>376.24</td>\n",
       "      <td>20230627164419</td>\n",
       "      <td>13149614</td>\n",
       "      <td>141</td>\n",
       "      <td>1</td>\n",
       "      <td>13758.91</td>\n",
       "      <td>20241104080935</td>\n",
       "    </tr>\n",
       "    <tr>\n",
       "      <th>2</th>\n",
       "      <td>126.29</td>\n",
       "      <td>20230710181608</td>\n",
       "      <td>21597143157</td>\n",
       "      <td>56</td>\n",
       "      <td>1</td>\n",
       "      <td>1122.35</td>\n",
       "      <td>20241104080704</td>\n",
       "    </tr>\n",
       "    <tr>\n",
       "      <th>3</th>\n",
       "      <td>184.50</td>\n",
       "      <td>20230505163211</td>\n",
       "      <td>20013225150</td>\n",
       "      <td>25</td>\n",
       "      <td>1</td>\n",
       "      <td>8569.06</td>\n",
       "      <td>20241104080906</td>\n",
       "    </tr>\n",
       "    <tr>\n",
       "      <th>4</th>\n",
       "      <td>13.45</td>\n",
       "      <td>20231016175124</td>\n",
       "      <td>651643100</td>\n",
       "      <td>198</td>\n",
       "      <td>1</td>\n",
       "      <td>7429.40</td>\n",
       "      <td>20241104080639</td>\n",
       "    </tr>\n",
       "  </tbody>\n",
       "</table>\n",
       "</div>"
      ],
      "text/plain": [
       "   TransactionAmount  TransactionDate   IP Address  TransactionDuration  \\\n",
       "0              14.09   20230411162914  16219821892                   81   \n",
       "1             376.24   20230627164419     13149614                  141   \n",
       "2             126.29   20230710181608  21597143157                   56   \n",
       "3             184.50   20230505163211  20013225150                   25   \n",
       "4              13.45   20231016175124    651643100                  198   \n",
       "\n",
       "   LoginAttempts  AccountBalance  PreviousTransactionDate  \n",
       "0              1         5112.21           20241104080808  \n",
       "1              1        13758.91           20241104080935  \n",
       "2              1         1122.35           20241104080704  \n",
       "3              1         8569.06           20241104080906  \n",
       "4              1         7429.40           20241104080639  "
      ]
     },
     "execution_count": 31,
     "metadata": {},
     "output_type": "execute_result"
    }
   ],
   "source": [
    "df.head()"
   ]
  },
  {
   "cell_type": "code",
   "execution_count": 57,
   "metadata": {},
   "outputs": [],
   "source": [
    "df_train,df_test = train_test_split(df,test_size=0.2,random_state=0)"
   ]
  },
  {
   "cell_type": "code",
   "execution_count": 58,
   "metadata": {},
   "outputs": [],
   "source": [
    "X = df_train.values"
   ]
  },
  {
   "cell_type": "code",
   "execution_count": 59,
   "metadata": {},
   "outputs": [],
   "source": [
    "X_test = df_test.values"
   ]
  },
  {
   "cell_type": "code",
   "execution_count": 60,
   "metadata": {},
   "outputs": [
    {
     "name": "stdout",
     "output_type": "stream",
     "text": [
      "Epoch 1/20\n",
      "201/201 [==============================] - 11s 52ms/step - loss: 347.7278 - val_loss: 73.1707\n",
      "Epoch 2/20\n",
      "201/201 [==============================] - 10s 51ms/step - loss: 40.0574 - val_loss: 44.9603\n",
      "Epoch 3/20\n",
      "201/201 [==============================] - 10s 52ms/step - loss: 31.2457 - val_loss: 25.7555\n",
      "Epoch 4/20\n",
      "201/201 [==============================] - 12s 59ms/step - loss: 28.5597 - val_loss: 30.8337\n",
      "Epoch 5/20\n",
      "201/201 [==============================] - 11s 56ms/step - loss: 25.9045 - val_loss: 25.7298\n",
      "Epoch 6/20\n",
      "201/201 [==============================] - 11s 53ms/step - loss: 22.2577 - val_loss: 29.6366\n",
      "Epoch 7/20\n",
      "201/201 [==============================] - 11s 55ms/step - loss: 16.6195 - val_loss: 7.8994\n",
      "Epoch 8/20\n",
      "201/201 [==============================] - 11s 55ms/step - loss: 12.5492 - val_loss: 12.1315\n",
      "Epoch 9/20\n",
      "201/201 [==============================] - 10s 51ms/step - loss: 14.5560 - val_loss: 23.2420\n",
      "Epoch 10/20\n",
      "201/201 [==============================] - 10s 52ms/step - loss: 13.3544 - val_loss: 10.2224\n",
      "Epoch 11/20\n",
      "201/201 [==============================] - 11s 52ms/step - loss: 10.1106 - val_loss: 10.7211\n",
      "Epoch 12/20\n",
      "201/201 [==============================] - 11s 54ms/step - loss: 15.1282 - val_loss: 26.1288\n",
      "Epoch 13/20\n",
      "201/201 [==============================] - 10s 50ms/step - loss: 14.7902 - val_loss: 16.5147\n",
      "Epoch 14/20\n",
      "201/201 [==============================] - 11s 54ms/step - loss: 14.0846 - val_loss: 13.9198\n",
      "Epoch 15/20\n",
      "201/201 [==============================] - 11s 54ms/step - loss: 12.4757 - val_loss: 15.5459\n",
      "Epoch 16/20\n",
      "201/201 [==============================] - 10s 52ms/step - loss: 12.1595 - val_loss: 4.7885\n",
      "Epoch 17/20\n",
      "201/201 [==============================] - 10s 51ms/step - loss: 12.4688 - val_loss: 11.2045\n",
      "Epoch 18/20\n",
      "201/201 [==============================] - 10s 52ms/step - loss: 11.9894 - val_loss: 6.3725\n",
      "Epoch 19/20\n",
      "201/201 [==============================] - 11s 54ms/step - loss: 12.5586 - val_loss: 13.4456\n",
      "Epoch 20/20\n",
      "201/201 [==============================] - 11s 56ms/step - loss: 13.5242 - val_loss: 10.7370\n"
     ]
    }
   ],
   "source": [
    "history = autoencoder.fit(X, X,\n",
    "          epochs=20, \n",
    "          batch_size=10,\n",
    "          validation_data=(X_test,X_test),\n",
    "          shuffle=True)"
   ]
  },
  {
   "cell_type": "code",
   "execution_count": 61,
   "metadata": {},
   "outputs": [
    {
     "name": "stdout",
     "output_type": "stream",
     "text": [
      "63/63 [==============================] - 1s 10ms/step\n"
     ]
    }
   ],
   "source": [
    "reconstruction = autoencoder.predict(X)\n",
    "reconstruction_error = np.mean(np.abs(X - reconstruction), axis=1)\n",
    "# Calcular o limiar de erro\n",
    "limiar_erro = np.mean(reconstruction_error) + 2 * np.std(reconstruction_error)"
   ]
  },
  {
   "cell_type": "code",
   "execution_count": 67,
   "metadata": {},
   "outputs": [],
   "source": [
    "df_train['label'] = reconstruction_error > limiar_erro"
   ]
  },
  {
   "cell_type": "code",
   "execution_count": 70,
   "metadata": {},
   "outputs": [
    {
     "data": {
      "text/plain": [
       "2512"
      ]
     },
     "execution_count": 70,
     "metadata": {},
     "output_type": "execute_result"
    }
   ],
   "source": [
    "len(df)"
   ]
  },
  {
   "cell_type": "code",
   "execution_count": 68,
   "metadata": {},
   "outputs": [
    {
     "data": {
      "text/html": [
       "<div>\n",
       "<style scoped>\n",
       "    .dataframe tbody tr th:only-of-type {\n",
       "        vertical-align: middle;\n",
       "    }\n",
       "\n",
       "    .dataframe tbody tr th {\n",
       "        vertical-align: top;\n",
       "    }\n",
       "\n",
       "    .dataframe thead th {\n",
       "        text-align: right;\n",
       "    }\n",
       "</style>\n",
       "<table border=\"1\" class=\"dataframe\">\n",
       "  <thead>\n",
       "    <tr style=\"text-align: right;\">\n",
       "      <th></th>\n",
       "      <th>TransactionAmount</th>\n",
       "      <th>TransactionDuration</th>\n",
       "      <th>LoginAttempts</th>\n",
       "      <th>AccountBalance</th>\n",
       "      <th>label</th>\n",
       "    </tr>\n",
       "  </thead>\n",
       "  <tbody>\n",
       "    <tr>\n",
       "      <th>868</th>\n",
       "      <td>83.39</td>\n",
       "      <td>158</td>\n",
       "      <td>1</td>\n",
       "      <td>13182.11</td>\n",
       "      <td>True</td>\n",
       "    </tr>\n",
       "    <tr>\n",
       "      <th>1726</th>\n",
       "      <td>85.73</td>\n",
       "      <td>266</td>\n",
       "      <td>1</td>\n",
       "      <td>14928.35</td>\n",
       "      <td>True</td>\n",
       "    </tr>\n",
       "    <tr>\n",
       "      <th>971</th>\n",
       "      <td>194.37</td>\n",
       "      <td>161</td>\n",
       "      <td>1</td>\n",
       "      <td>14395.88</td>\n",
       "      <td>True</td>\n",
       "    </tr>\n",
       "    <tr>\n",
       "      <th>1894</th>\n",
       "      <td>447.83</td>\n",
       "      <td>88</td>\n",
       "      <td>1</td>\n",
       "      <td>13273.08</td>\n",
       "      <td>True</td>\n",
       "    </tr>\n",
       "    <tr>\n",
       "      <th>1886</th>\n",
       "      <td>72.50</td>\n",
       "      <td>30</td>\n",
       "      <td>1</td>\n",
       "      <td>12723.62</td>\n",
       "      <td>True</td>\n",
       "    </tr>\n",
       "    <tr>\n",
       "      <th>...</th>\n",
       "      <td>...</td>\n",
       "      <td>...</td>\n",
       "      <td>...</td>\n",
       "      <td>...</td>\n",
       "      <td>...</td>\n",
       "    </tr>\n",
       "    <tr>\n",
       "      <th>2146</th>\n",
       "      <td>97.63</td>\n",
       "      <td>127</td>\n",
       "      <td>1</td>\n",
       "      <td>12467.31</td>\n",
       "      <td>True</td>\n",
       "    </tr>\n",
       "    <tr>\n",
       "      <th>1167</th>\n",
       "      <td>838.57</td>\n",
       "      <td>273</td>\n",
       "      <td>1</td>\n",
       "      <td>14576.47</td>\n",
       "      <td>True</td>\n",
       "    </tr>\n",
       "    <tr>\n",
       "      <th>1641</th>\n",
       "      <td>50.52</td>\n",
       "      <td>293</td>\n",
       "      <td>1</td>\n",
       "      <td>12815.24</td>\n",
       "      <td>True</td>\n",
       "    </tr>\n",
       "    <tr>\n",
       "      <th>2076</th>\n",
       "      <td>325.03</td>\n",
       "      <td>106</td>\n",
       "      <td>1</td>\n",
       "      <td>13521.76</td>\n",
       "      <td>True</td>\n",
       "    </tr>\n",
       "    <tr>\n",
       "      <th>1828</th>\n",
       "      <td>36.09</td>\n",
       "      <td>167</td>\n",
       "      <td>1</td>\n",
       "      <td>12319.26</td>\n",
       "      <td>True</td>\n",
       "    </tr>\n",
       "  </tbody>\n",
       "</table>\n",
       "<p>102 rows × 5 columns</p>\n",
       "</div>"
      ],
      "text/plain": [
       "      TransactionAmount  TransactionDuration  LoginAttempts  AccountBalance  \\\n",
       "868               83.39                  158              1        13182.11   \n",
       "1726              85.73                  266              1        14928.35   \n",
       "971              194.37                  161              1        14395.88   \n",
       "1894             447.83                   88              1        13273.08   \n",
       "1886              72.50                   30              1        12723.62   \n",
       "...                 ...                  ...            ...             ...   \n",
       "2146              97.63                  127              1        12467.31   \n",
       "1167             838.57                  273              1        14576.47   \n",
       "1641              50.52                  293              1        12815.24   \n",
       "2076             325.03                  106              1        13521.76   \n",
       "1828              36.09                  167              1        12319.26   \n",
       "\n",
       "      label  \n",
       "868    True  \n",
       "1726   True  \n",
       "971    True  \n",
       "1894   True  \n",
       "1886   True  \n",
       "...     ...  \n",
       "2146   True  \n",
       "1167   True  \n",
       "1641   True  \n",
       "2076   True  \n",
       "1828   True  \n",
       "\n",
       "[102 rows x 5 columns]"
      ]
     },
     "execution_count": 68,
     "metadata": {},
     "output_type": "execute_result"
    }
   ],
   "source": [
    "df_train.loc[df_train['label'] == True]"
   ]
  },
  {
   "cell_type": "code",
   "execution_count": 73,
   "metadata": {},
   "outputs": [
    {
     "data": {
      "text/plain": [
       "array([[ 483.40167 ,   57.212288,    0.      , 5862.2803  ],\n",
       "       [ 467.25104 ,  195.80338 ,    0.      , 7070.905   ],\n",
       "       [   0.      ,   72.59162 ,    0.      , 6990.5776  ],\n",
       "       ...,\n",
       "       [ 467.04727 ,   59.577713,    0.      , 2154.0254  ],\n",
       "       [   0.      ,  192.85632 ,    0.      , 7600.753   ],\n",
       "       [  74.35798 ,  121.34133 ,    0.      , 1594.8394  ]],\n",
       "      dtype=float32)"
      ]
     },
     "execution_count": 73,
     "metadata": {},
     "output_type": "execute_result"
    }
   ],
   "source": [
    "reconstruction"
   ]
  }
 ],
 "metadata": {
  "kernelspec": {
   "display_name": "valor_venal",
   "language": "python",
   "name": "python3"
  },
  "language_info": {
   "codemirror_mode": {
    "name": "ipython",
    "version": 3
   },
   "file_extension": ".py",
   "mimetype": "text/x-python",
   "name": "python",
   "nbconvert_exporter": "python",
   "pygments_lexer": "ipython3",
   "version": "3.9.15"
  }
 },
 "nbformat": 4,
 "nbformat_minor": 2
}
